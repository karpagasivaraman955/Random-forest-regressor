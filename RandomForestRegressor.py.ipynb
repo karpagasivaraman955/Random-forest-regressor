{
  "cells": [
    {
      "cell_type": "code",
      "execution_count": 2,
      "metadata": {
        "id": "jb-L6MzO0HLp"
      },
      "outputs": [],
      "source": [
        "import pandas as pd\n",
        "from sklearn.model_selection import train_test_split\n",
        "from sklearn.ensemble import RandomForestRegressor\n",
        "from sklearn.metrics import accuracy_score"
      ]
    },
    {
      "cell_type": "code",
      "execution_count": 3,
      "metadata": {
        "colab": {
          "base_uri": "https://localhost:8080/",
          "height": 443
        },
        "id": "Um8DGUbe0SC-",
        "outputId": "2af5372b-2223-4c59-8046-80f7118c1e52"
      },
      "outputs": [
        {
          "data": {
            "text/html": [
              "<div>\n",
              "<style scoped>\n",
              "    .dataframe tbody tr th:only-of-type {\n",
              "        vertical-align: middle;\n",
              "    }\n",
              "\n",
              "    .dataframe tbody tr th {\n",
              "        vertical-align: top;\n",
              "    }\n",
              "\n",
              "    .dataframe thead th {\n",
              "        text-align: right;\n",
              "    }\n",
              "</style>\n",
              "<table border=\"1\" class=\"dataframe\">\n",
              "  <thead>\n",
              "    <tr style=\"text-align: right;\">\n",
              "      <th></th>\n",
              "      <th>Date</th>\n",
              "      <th>High</th>\n",
              "      <th>Low</th>\n",
              "      <th>Open</th>\n",
              "      <th>Close</th>\n",
              "      <th>Volume</th>\n",
              "      <th>Adj Close</th>\n",
              "      <th>Company</th>\n",
              "    </tr>\n",
              "  </thead>\n",
              "  <tbody>\n",
              "    <tr>\n",
              "      <th>0</th>\n",
              "      <td>2001-01-24</td>\n",
              "      <td>22.375000</td>\n",
              "      <td>19.000000</td>\n",
              "      <td>19.187500</td>\n",
              "      <td>21.875000</td>\n",
              "      <td>13848100</td>\n",
              "      <td>21.875000</td>\n",
              "      <td>Amazon.com, Inc.</td>\n",
              "    </tr>\n",
              "    <tr>\n",
              "      <th>1</th>\n",
              "      <td>2001-01-25</td>\n",
              "      <td>21.750000</td>\n",
              "      <td>19.000000</td>\n",
              "      <td>21.687500</td>\n",
              "      <td>19.000000</td>\n",
              "      <td>7066400</td>\n",
              "      <td>19.000000</td>\n",
              "      <td>Amazon.com, Inc.</td>\n",
              "    </tr>\n",
              "    <tr>\n",
              "      <th>2</th>\n",
              "      <td>2001-01-26</td>\n",
              "      <td>20.500000</td>\n",
              "      <td>18.875000</td>\n",
              "      <td>18.937500</td>\n",
              "      <td>19.500000</td>\n",
              "      <td>5094600</td>\n",
              "      <td>19.500000</td>\n",
              "      <td>Amazon.com, Inc.</td>\n",
              "    </tr>\n",
              "    <tr>\n",
              "      <th>3</th>\n",
              "      <td>2001-01-29</td>\n",
              "      <td>20.750000</td>\n",
              "      <td>18.812500</td>\n",
              "      <td>19.125000</td>\n",
              "      <td>20.125000</td>\n",
              "      <td>7713000</td>\n",
              "      <td>20.125000</td>\n",
              "      <td>Amazon.com, Inc.</td>\n",
              "    </tr>\n",
              "    <tr>\n",
              "      <th>4</th>\n",
              "      <td>2001-01-30</td>\n",
              "      <td>20.687500</td>\n",
              "      <td>18.671875</td>\n",
              "      <td>20.562500</td>\n",
              "      <td>18.937500</td>\n",
              "      <td>12273300</td>\n",
              "      <td>18.937500</td>\n",
              "      <td>Amazon.com, Inc.</td>\n",
              "    </tr>\n",
              "    <tr>\n",
              "      <th>...</th>\n",
              "      <td>...</td>\n",
              "      <td>...</td>\n",
              "      <td>...</td>\n",
              "      <td>...</td>\n",
              "      <td>...</td>\n",
              "      <td>...</td>\n",
              "      <td>...</td>\n",
              "      <td>...</td>\n",
              "    </tr>\n",
              "    <tr>\n",
              "      <th>5026</th>\n",
              "      <td>2021-01-15</td>\n",
              "      <td>3142.550049</td>\n",
              "      <td>3095.169922</td>\n",
              "      <td>3123.020020</td>\n",
              "      <td>3104.250000</td>\n",
              "      <td>4214200</td>\n",
              "      <td>3104.250000</td>\n",
              "      <td>Amazon.com, Inc.</td>\n",
              "    </tr>\n",
              "    <tr>\n",
              "      <th>5027</th>\n",
              "      <td>2021-01-19</td>\n",
              "      <td>3145.000000</td>\n",
              "      <td>3096.000000</td>\n",
              "      <td>3107.000000</td>\n",
              "      <td>3120.760010</td>\n",
              "      <td>3305100</td>\n",
              "      <td>3120.760010</td>\n",
              "      <td>Amazon.com, Inc.</td>\n",
              "    </tr>\n",
              "    <tr>\n",
              "      <th>5028</th>\n",
              "      <td>2021-01-20</td>\n",
              "      <td>3279.800049</td>\n",
              "      <td>3175.000000</td>\n",
              "      <td>3181.989990</td>\n",
              "      <td>3263.379883</td>\n",
              "      <td>5309800</td>\n",
              "      <td>3263.379883</td>\n",
              "      <td>Amazon.com, Inc.</td>\n",
              "    </tr>\n",
              "    <tr>\n",
              "      <th>5029</th>\n",
              "      <td>2021-01-21</td>\n",
              "      <td>3348.550049</td>\n",
              "      <td>3289.570068</td>\n",
              "      <td>3293.000000</td>\n",
              "      <td>3306.989990</td>\n",
              "      <td>4945100</td>\n",
              "      <td>3306.989990</td>\n",
              "      <td>Amazon.com, Inc.</td>\n",
              "    </tr>\n",
              "    <tr>\n",
              "      <th>5030</th>\n",
              "      <td>2021-01-22</td>\n",
              "      <td>3321.909912</td>\n",
              "      <td>3283.159912</td>\n",
              "      <td>3304.310059</td>\n",
              "      <td>3292.229980</td>\n",
              "      <td>2816300</td>\n",
              "      <td>3292.229980</td>\n",
              "      <td>Amazon.com, Inc.</td>\n",
              "    </tr>\n",
              "  </tbody>\n",
              "</table>\n",
              "<p>5031 rows × 8 columns</p>\n",
              "</div>"
            ],
            "text/plain": [
              "            Date         High          Low         Open        Close  \\\n",
              "0     2001-01-24    22.375000    19.000000    19.187500    21.875000   \n",
              "1     2001-01-25    21.750000    19.000000    21.687500    19.000000   \n",
              "2     2001-01-26    20.500000    18.875000    18.937500    19.500000   \n",
              "3     2001-01-29    20.750000    18.812500    19.125000    20.125000   \n",
              "4     2001-01-30    20.687500    18.671875    20.562500    18.937500   \n",
              "...          ...          ...          ...          ...          ...   \n",
              "5026  2021-01-15  3142.550049  3095.169922  3123.020020  3104.250000   \n",
              "5027  2021-01-19  3145.000000  3096.000000  3107.000000  3120.760010   \n",
              "5028  2021-01-20  3279.800049  3175.000000  3181.989990  3263.379883   \n",
              "5029  2021-01-21  3348.550049  3289.570068  3293.000000  3306.989990   \n",
              "5030  2021-01-22  3321.909912  3283.159912  3304.310059  3292.229980   \n",
              "\n",
              "        Volume    Adj Close           Company  \n",
              "0     13848100    21.875000  Amazon.com, Inc.  \n",
              "1      7066400    19.000000  Amazon.com, Inc.  \n",
              "2      5094600    19.500000  Amazon.com, Inc.  \n",
              "3      7713000    20.125000  Amazon.com, Inc.  \n",
              "4     12273300    18.937500  Amazon.com, Inc.  \n",
              "...        ...          ...               ...  \n",
              "5026   4214200  3104.250000  Amazon.com, Inc.  \n",
              "5027   3305100  3120.760010  Amazon.com, Inc.  \n",
              "5028   5309800  3263.379883  Amazon.com, Inc.  \n",
              "5029   4945100  3306.989990  Amazon.com, Inc.  \n",
              "5030   2816300  3292.229980  Amazon.com, Inc.  \n",
              "\n",
              "[5031 rows x 8 columns]"
            ]
          },
          "execution_count": 3,
          "metadata": {},
          "output_type": "execute_result"
        }
      ],
      "source": [
        "mnc_stock_data = pd.read_csv('Amazon.com Inc.stock.csv')\n",
        "mnc_stock_data"
      ]
    },
    {
      "cell_type": "code",
      "execution_count": 4,
      "metadata": {
        "id": "qaNY4iaXKACA"
      },
      "outputs": [],
      "source": [
        "X = mnc_stock_data[[\"Open\",\"High\",\"Low\",\"Volume\"]]\n",
        "y = mnc_stock_data[\"Close\"]"
      ]
    },
    {
      "cell_type": "code",
      "execution_count": 5,
      "metadata": {
        "id": "VmztjaFSKJC5"
      },
      "outputs": [],
      "source": [
        "X_train, X_test, y_train, y_test = train_test_split(X, y, test_size=0.2, random_state=42)"
      ]
    },
    {
      "cell_type": "code",
      "execution_count": 6,
      "metadata": {
        "colab": {
          "base_uri": "https://localhost:8080/",
          "height": 321
        },
        "id": "bmbbrWz3KQGr",
        "outputId": "eed8fca6-31ca-4df5-d494-fcf5079bc94f"
      },
      "outputs": [
        {
          "data": {
            "text/html": [
              "<style>#sk-container-id-1 {color: black;}#sk-container-id-1 pre{padding: 0;}#sk-container-id-1 div.sk-toggleable {background-color: white;}#sk-container-id-1 label.sk-toggleable__label {cursor: pointer;display: block;width: 100%;margin-bottom: 0;padding: 0.3em;box-sizing: border-box;text-align: center;}#sk-container-id-1 label.sk-toggleable__label-arrow:before {content: \"▸\";float: left;margin-right: 0.25em;color: #696969;}#sk-container-id-1 label.sk-toggleable__label-arrow:hover:before {color: black;}#sk-container-id-1 div.sk-estimator:hover label.sk-toggleable__label-arrow:before {color: black;}#sk-container-id-1 div.sk-toggleable__content {max-height: 0;max-width: 0;overflow: hidden;text-align: left;background-color: #f0f8ff;}#sk-container-id-1 div.sk-toggleable__content pre {margin: 0.2em;color: black;border-radius: 0.25em;background-color: #f0f8ff;}#sk-container-id-1 input.sk-toggleable__control:checked~div.sk-toggleable__content {max-height: 200px;max-width: 100%;overflow: auto;}#sk-container-id-1 input.sk-toggleable__control:checked~label.sk-toggleable__label-arrow:before {content: \"▾\";}#sk-container-id-1 div.sk-estimator input.sk-toggleable__control:checked~label.sk-toggleable__label {background-color: #d4ebff;}#sk-container-id-1 div.sk-label input.sk-toggleable__control:checked~label.sk-toggleable__label {background-color: #d4ebff;}#sk-container-id-1 input.sk-hidden--visually {border: 0;clip: rect(1px 1px 1px 1px);clip: rect(1px, 1px, 1px, 1px);height: 1px;margin: -1px;overflow: hidden;padding: 0;position: absolute;width: 1px;}#sk-container-id-1 div.sk-estimator {font-family: monospace;background-color: #f0f8ff;border: 1px dotted black;border-radius: 0.25em;box-sizing: border-box;margin-bottom: 0.5em;}#sk-container-id-1 div.sk-estimator:hover {background-color: #d4ebff;}#sk-container-id-1 div.sk-parallel-item::after {content: \"\";width: 100%;border-bottom: 1px solid gray;flex-grow: 1;}#sk-container-id-1 div.sk-label:hover label.sk-toggleable__label {background-color: #d4ebff;}#sk-container-id-1 div.sk-serial::before {content: \"\";position: absolute;border-left: 1px solid gray;box-sizing: border-box;top: 0;bottom: 0;left: 50%;z-index: 0;}#sk-container-id-1 div.sk-serial {display: flex;flex-direction: column;align-items: center;background-color: white;padding-right: 0.2em;padding-left: 0.2em;position: relative;}#sk-container-id-1 div.sk-item {position: relative;z-index: 1;}#sk-container-id-1 div.sk-parallel {display: flex;align-items: stretch;justify-content: center;background-color: white;position: relative;}#sk-container-id-1 div.sk-item::before, #sk-container-id-1 div.sk-parallel-item::before {content: \"\";position: absolute;border-left: 1px solid gray;box-sizing: border-box;top: 0;bottom: 0;left: 50%;z-index: -1;}#sk-container-id-1 div.sk-parallel-item {display: flex;flex-direction: column;z-index: 1;position: relative;background-color: white;}#sk-container-id-1 div.sk-parallel-item:first-child::after {align-self: flex-end;width: 50%;}#sk-container-id-1 div.sk-parallel-item:last-child::after {align-self: flex-start;width: 50%;}#sk-container-id-1 div.sk-parallel-item:only-child::after {width: 0;}#sk-container-id-1 div.sk-dashed-wrapped {border: 1px dashed gray;margin: 0 0.4em 0.5em 0.4em;box-sizing: border-box;padding-bottom: 0.4em;background-color: white;}#sk-container-id-1 div.sk-label label {font-family: monospace;font-weight: bold;display: inline-block;line-height: 1.2em;}#sk-container-id-1 div.sk-label-container {text-align: center;}#sk-container-id-1 div.sk-container {/* jupyter's `normalize.less` sets `[hidden] { display: none; }` but bootstrap.min.css set `[hidden] { display: none !important; }` so we also need the `!important` here to be able to override the default hidden behavior on the sphinx rendered scikit-learn.org. See: https://github.com/scikit-learn/scikit-learn/issues/21755 */display: inline-block !important;position: relative;}#sk-container-id-1 div.sk-text-repr-fallback {display: none;}</style><div id=\"sk-container-id-1\" class=\"sk-top-container\"><div class=\"sk-text-repr-fallback\"><pre>RandomForestRegressor()</pre><b>In a Jupyter environment, please rerun this cell to show the HTML representation or trust the notebook. <br />On GitHub, the HTML representation is unable to render, please try loading this page with nbviewer.org.</b></div><div class=\"sk-container\" hidden><div class=\"sk-item\"><div class=\"sk-estimator sk-toggleable\"><input class=\"sk-toggleable__control sk-hidden--visually\" id=\"sk-estimator-id-1\" type=\"checkbox\" checked><label for=\"sk-estimator-id-1\" class=\"sk-toggleable__label sk-toggleable__label-arrow\">RandomForestRegressor</label><div class=\"sk-toggleable__content\"><pre>RandomForestRegressor()</pre></div></div></div></div></div>"
            ],
            "text/plain": [
              "RandomForestRegressor()"
            ]
          },
          "execution_count": 6,
          "metadata": {},
          "output_type": "execute_result"
        }
      ],
      "source": [
        "#y_train = pd.to_numeric(y_train)\n",
        "clf = RandomForestRegressor()\n",
        "clf.fit(X_train, y_train)"
      ]
    },
    {
      "cell_type": "code",
      "execution_count": 10,
      "metadata": {
        "id": "38qlYowpKaxF"
      },
      "outputs": [
        {
          "name": "stdout",
          "output_type": "stream",
          "text": [
            "The model score is: 0.9999513284792312\n"
          ]
        }
      ],
      "source": [
        "predictions = clf.predict(X)\n",
        "print('The model score is:', clf.score (X,y))"
      ]
    },
    {
      "cell_type": "code",
      "execution_count": 13,
      "metadata": {
        "id": "jC6eeqR_Kn-e"
      },
      "outputs": [
        {
          "name": "stdout",
          "output_type": "stream",
          "text": [
            "Recommended profitable companies to invest in:\n",
            "Series([], Name: Company, dtype: object)\n"
          ]
        }
      ],
      "source": [
        "profitable_companies = mnc_stock_data[predictions == 1]['Company']\n",
        "print(\"Recommended profitable companies to invest in:\")\n",
        "print(profitable_companies)"
      ]
    },
    {
      "cell_type": "code",
      "execution_count": 17,
      "metadata": {},
      "outputs": [
        {
          "name": "stdout",
          "output_type": "stream",
          "text": [
            "The model predicts the last row or day to be: [3294.89620361]\n",
            "Actual value is: 3292.22998046875\n"
          ]
        }
      ],
      "source": [
        "# Make the predictions\n",
        "new_data= mnc_stock_data[['Open', 'High', 'Low', 'Volume']].tail (1)\n",
        "prediction = clf.predict(new_data)\n",
        "print('The model predicts the last row or day to be:', prediction)\n",
        "print('Actual value is:', mnc_stock_data[['Close']].tail (1).values[0][0])"
      ]
    }
  ],
  "metadata": {
    "colab": {
      "provenance": []
    },
    "kernelspec": {
      "display_name": "Python 3",
      "name": "python3"
    },
    "language_info": {
      "codemirror_mode": {
        "name": "ipython",
        "version": 3
      },
      "file_extension": ".py",
      "mimetype": "text/x-python",
      "name": "python",
      "nbconvert_exporter": "python",
      "pygments_lexer": "ipython3",
      "version": "3.11.5"
    }
  },
  "nbformat": 4,
  "nbformat_minor": 0
}
